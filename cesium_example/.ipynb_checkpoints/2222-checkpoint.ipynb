{
 "cells": [
  {
   "cell_type": "markdown",
   "id": "e629e5fd-e855-4854-b742-bc854919e645",
   "metadata": {},
   "source": [
    "print(\"not a good idea\")"
   ]
  },
  {
   "cell_type": "code",
   "execution_count": 1,
   "id": "63007621-5943-49c4-b9c9-65778a7b7d7c",
   "metadata": {},
   "outputs": [
    {
     "name": "stdout",
     "output_type": "stream",
     "text": [
      "D:\\PythonProjects\\DataProcessingCenter\\cesium_example\n"
     ]
    }
   ],
   "source": [
    "import os\n",
    "print(os.getcwd())"
   ]
  },
  {
   "cell_type": "code",
   "execution_count": 20,
   "id": "04fbd359-8b50-4295-9155-0b2c1abb84ef",
   "metadata": {},
   "outputs": [
    {
     "data": {
      "text/html": [
       "\n",
       "        <iframe\n",
       "            width=\"1400\"\n",
       "            height=\"800\"\n",
       "            src=\"./example.html\"\n",
       "            frameborder=\"0\"\n",
       "            allowfullscreen\n",
       "            \n",
       "        ></iframe>\n",
       "        "
      ],
      "text/plain": [
       "<IPython.lib.display.IFrame at 0x1cc4c618b10>"
      ]
     },
     "metadata": {},
     "output_type": "display_data"
    }
   ],
   "source": [
    "from IPython.display import display, clear_output, IFrame, Image, HTML\n",
    "display(IFrame(src=\"./example.html\", width=1400, height=800))"
   ]
  },
  {
   "cell_type": "code",
   "execution_count": null,
   "id": "41491bab-5587-4440-b2cb-c520cb0d256b",
   "metadata": {},
   "outputs": [],
   "source": [
    "import ipywidgets as widgets\n",
    "from IPython.display import display, IFrame\n",
    "\n",
    "out = widgets.Output()\n",
    "\n",
    "@out.capture()\n",
    "def render():\n",
    "    display(IFrame(src='./example.html',width=700, height=600))"
   ]
  }
 ],
 "metadata": {
  "kernelspec": {
   "display_name": "Python 3 (ipykernel)",
   "language": "python",
   "name": "python3"
  },
  "language_info": {
   "codemirror_mode": {
    "name": "ipython",
    "version": 3
   },
   "file_extension": ".py",
   "mimetype": "text/x-python",
   "name": "python",
   "nbconvert_exporter": "python",
   "pygments_lexer": "ipython3",
   "version": "3.11.5"
  }
 },
 "nbformat": 4,
 "nbformat_minor": 5
}
