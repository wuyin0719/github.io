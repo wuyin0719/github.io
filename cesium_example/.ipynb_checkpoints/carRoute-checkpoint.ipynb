{
 "cells": [
  {
   "cell_type": "code",
   "execution_count": 5,
   "id": "826c81ef-ebc5-46a0-a2b2-dae6bfd9c054",
   "metadata": {},
   "outputs": [],
   "source": [
    "# encoding:utf-8\n",
    "import requests \n",
    "\n",
    "# 接口地址\n",
    "url = \"https://api.map.baidu.com/directionlite/v1/driving\"\n",
    "\n",
    "# 此处填写你在控制台-应用管理-创建应用后获取的AK\n",
    "# ak = \"您的AK\"\n",
    "ak = 'z7A2pcEe2MaKIekwTMwDxyz9VnCvIHlF'\n",
    "params = {\n",
    "    \"origin\":    \"40.01116,116.339303\",\n",
    "    \"destination\":    \"39.936404,116.452562\",\n",
    "    \"ak\":       ak,\n",
    "\n",
    "}\n",
    "\n",
    "response = requests.get(url=url, params=params)\n",
    "if response:\n",
    "    # print(response.json())\n",
    "    result=response.json()['result']['routes']"
   ]
  },
  {
   "cell_type": "code",
   "execution_count": 1,
   "id": "acc8fae3-e3e8-4be4-a9a6-4660c4c6c326",
   "metadata": {},
   "outputs": [],
   "source": [
    "# result\n",
    "# encoding:utf-8\n",
    "# 根据您选择的AK已为您生成调用代码\n",
    "# 检测到您当前的AK设置了IP白名单校验\n",
    "# 您的IP白名单中的IP非公网IP，请设置为公网IP，否则将请求失败\n",
    "# 请在IP地址为0.0.0.0/0 外网IP的计算发起请求，否则将请求失败\n",
    "import requests \n",
    "\n",
    "# 服务地址\n",
    "host = \"https://api.map.baidu.com\"\n",
    "\n",
    "# 接口地址\n",
    "uri = \"/directionlite/v1/transit\"\n",
    "\n",
    "# 此处填写你在控制台-应用管理-创建应用后获取的AK\n",
    "ak = \"z7A2pcEe2MaKIekwTMwDxyz9VnCvIHlF\"\n",
    "\n",
    "params = {\n",
    "    \"origin\":    \"39.929522,116.362817\",\n",
    "    \"destination\":    \"39.939841,116.440638\",\n",
    "    \"ak\":       ak,\n",
    "\n",
    "}\n",
    "\n",
    "response = requests.get(url = host + uri, params = params)\n",
    "if response:\n",
    "    print(response.json())"
   ]
  },
  {
   "cell_type": "code",
   "execution_count": 9,
   "id": "6440b3c4-d7bd-4aa1-aa3f-ba1a955bce21",
   "metadata": {},
   "outputs": [
    {
     "data": {
      "text/plain": [
       "['116.33964557069,40.01051873416',\n",
       " '116.34000633018,40.010546434696',\n",
       " '116.34065760168,40.010552582694',\n",
       " '116.34087804585,40.010561355679',\n",
       " '116.34156920211,40.010597829178',\n",
       " '116.34213001424,40.010635269756',\n",
       " '116.34225020752,40.010644802594',\n",
       " '116.34243049743,40.010654059116',\n",
       " '116.3429911299,40.010661934067']"
      ]
     },
     "execution_count": 9,
     "metadata": {},
     "output_type": "execute_result"
    }
   ],
   "source": [
    "'116.33964557069,40.01051873416;116.34000633018,40.010546434696;116.34065760168,40.010552582694;116.34087804585,40.010561355679;116.34156920211,40.010597829178;116.34213001424,40.010635269756;116.34225020752,40.010644802594;116.34243049743,40.010654059116;116.3429911299,40.010661934067'.split(';')"
   ]
  }
 ],
 "metadata": {
  "kernelspec": {
   "display_name": "Python 3 (ipykernel)",
   "language": "python",
   "name": "python3"
  },
  "language_info": {
   "codemirror_mode": {
    "name": "ipython",
    "version": 3
   },
   "file_extension": ".py",
   "mimetype": "text/x-python",
   "name": "python",
   "nbconvert_exporter": "python",
   "pygments_lexer": "ipython3",
   "version": "3.11.5"
  }
 },
 "nbformat": 4,
 "nbformat_minor": 5
}
